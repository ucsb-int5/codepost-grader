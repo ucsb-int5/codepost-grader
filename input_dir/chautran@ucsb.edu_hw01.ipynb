{
  "cells": [
    {
      "cell_type": "code",
      "execution_count": 1,
      "metadata": {
        "deletable": false,
        "editable": false
      },
      "outputs": [
        {
          "name": "stdout",
          "output_type": "stream",
          "text": [
            "=====================================================================\n",
            "Assignment: hw1\n",
            "OK, version v1.14.11\n",
            "=====================================================================\n",
            "\n"
          ]
        }
      ],
      "source": [
        "# Initialize OK\n",
        "from client.api.notebook import Notebook\n",
        "ok = Notebook('hw1.ok')"
      ]
    },
    {
      "cell_type": "markdown",
      "metadata": {},
      "source": [
        "# Homework 1 - INT 15"
      ]
    },
    {
      "cell_type": "markdown",
      "metadata": {},
      "source": [
        "![election_prediction](http://donsnotes.com/politics/images/clinton-trump-rating.png)"
      ]
    },
    {
      "cell_type": "markdown",
      "metadata": {},
      "source": [
        "We haven't yet talked about predictive models in class yet, but we can at least think about what makes a \"good\" prediction.  In this assignment, we'll focus on evaluating the quality of election predictions made by the website [fivethirtyeight.com](https://www.fivethirtyeight.com).  As one prominent example, fivethirtyeight predicted that Clinton had a 70.9% chance to win the election.  Was their model wrong?\n",
        "\n",
        "To gain insight into questions like this, we'll focus on  [US House elections predictions from 2018](https://projects.fivethirtyeight.com/2018-midterm-election-forecast/house/).  Their predictions are based predominantly on polling data but include other sources as well (state of the economy, overall favoriability of politic parties, etc).  \n",
        "\n",
        "This homework is based loosely on [this article](https://projects.fivethirtyeight.com/checking-our-work/).  Please read the article before beginning the assignment.\n"
      ]
    },
    {
      "cell_type": "code",
      "execution_count": 2,
      "metadata": {},
      "outputs": [
        {
          "name": "stdout",
          "output_type": "stream",
          "text": [
            "--2019-04-18 22:45:54--  https://raw.githubusercontent.com/fivethirtyeight/checking-our-work-data/master/us_house_elections.csv\n",
            "Resolving raw.githubusercontent.com (raw.githubusercontent.com)... 151.101.0.133, 151.101.64.133, 151.101.128.133, ...\n",
            "Connecting to raw.githubusercontent.com (raw.githubusercontent.com)|151.101.0.133|:443... connected.\n",
            "HTTP request sent, awaiting response... 200 OK\n",
            "Length: 24027649 (23M) [text/plain]\n",
            "Saving to: \u2018us_house_elections.csv.8\u2019\n",
            "\n",
            "us_house_elections. 100%[===================>]  22.91M   147MB/s    in 0.2s    \n",
            "\n",
            "2019-04-18 22:45:54 (147 MB/s) - \u2018us_house_elections.csv.8\u2019 saved [24027649/24027649]\n",
            "\n"
          ]
        }
      ],
      "source": [
        "!wget https://raw.githubusercontent.com/fivethirtyeight/checking-our-work-data/master/us_house_elections.csv"
      ]
    },
    {
      "cell_type": "markdown",
      "metadata": {},
      "source": [
        "`ls` command can be used to verify that the file is now listed in our folder.   "
      ]
    },
    {
      "cell_type": "code",
      "execution_count": 3,
      "metadata": {},
      "outputs": [
        {
          "name": "stdout",
          "output_type": "stream",
          "text": [
            "total 215800\r\n",
            "-rw-rw-r-- 1 jovyan users   101916 Apr 18 22:45 hw1.ipynb\r\n",
            "-rw-rw-r-- 1 jovyan users      162 Apr 10 22:38 hw1.ok\r\n",
            "-rw-rw-r-- 1 jovyan users   562029 Apr 17 21:53 mlb_games.csv\r\n",
            "-rw-r--r-- 1 jovyan users   562029 Apr 18 17:11 mlb_games.csv.1\r\n",
            "-rw-r--r-- 1 jovyan users   562029 Apr 18 17:18 mlb_games.csv.2\r\n",
            "-rw-r--r-- 1 jovyan users   562029 Apr 18 19:55 mlb_games.csv.3\r\n",
            "-rw-r--r-- 1 jovyan users   562029 Apr 18 19:58 mlb_games.csv.4\r\n",
            "-rw-r--r-- 1 jovyan users   562029 Apr 18 20:05 mlb_games.csv.5\r\n",
            "-rw-r--r-- 1 jovyan users   562029 Apr 18 22:32 mlb_games.csv.6\r\n",
            "-rw-r--r-- 1 jovyan users   562029 Apr 18 22:35 mlb_games.csv.7\r\n",
            "drwxrwsr-x 3 jovyan users     4096 Apr 14 21:24 tests/\r\n",
            "-rw-rw-r-- 1 jovyan users 24027649 Apr 17 21:10 us_house_elections.csv\r\n",
            "-rw-r--r-- 1 jovyan users 24027649 Apr 18 16:57 us_house_elections.csv.1\r\n",
            "-rw-r--r-- 1 jovyan users 24027649 Apr 18 17:00 us_house_elections.csv.2\r\n",
            "-rw-r--r-- 1 jovyan users 24027649 Apr 18 19:13 us_house_elections.csv.3\r\n",
            "-rw-r--r-- 1 jovyan users 24027649 Apr 18 19:53 us_house_elections.csv.4\r\n",
            "-rw-r--r-- 1 jovyan users 24027649 Apr 18 20:04 us_house_elections.csv.5\r\n",
            "-rw-r--r-- 1 jovyan users 24027649 Apr 18 22:31 us_house_elections.csv.6\r\n",
            "-rw-r--r-- 1 jovyan users 24027649 Apr 18 22:35 us_house_elections.csv.7\r\n",
            "-rw-r--r-- 1 jovyan users 24027649 Apr 18 22:45 us_house_elections.csv.8\r\n"
          ]
        }
      ],
      "source": [
        "!ls -F -l"
      ]
    },
    {
      "cell_type": "code",
      "execution_count": 4,
      "metadata": {},
      "outputs": [
        {
          "name": "stderr",
          "output_type": "stream",
          "text": [
            "/opt/conda/lib/python3.6/site-packages/IPython/core/interactiveshell.py:3044: DtypeWarning: Columns (4) have mixed types. Specify dtype option on import or set low_memory=False.\n",
            "  interactivity=interactivity, compiler=compiler, result=result)\n"
          ]
        }
      ],
      "source": [
        "import pandas as pd ## call pandas functions using \"pd\"\n",
        "import numpy as np  ## call numpy functions using \"np\"\n",
        "election_data = pd.read_csv(\"us_house_elections.csv\")"
      ]
    },
    {
      "cell_type": "markdown",
      "metadata": {},
      "source": [
        "## Examining the Data\n",
        "\n",
        "Display the first 10 rows of the dataset using `iloc`."
      ]
    },
    {
      "cell_type": "code",
      "execution_count": 5,
      "metadata": {},
      "outputs": [
        {
          "data": {
            "text/html": [
              "<div>\n",
              "<style scoped>\n",
              "    .dataframe tbody tr th:only-of-type {\n",
              "        vertical-align: middle;\n",
              "    }\n",
              "\n",
              "    .dataframe tbody tr th {\n",
              "        vertical-align: top;\n",
              "    }\n",
              "\n",
              "    .dataframe thead th {\n",
              "        text-align: right;\n",
              "    }\n",
              "</style>\n",
              "<table border=\"1\" class=\"dataframe\">\n",
              "  <thead>\n",
              "    <tr style=\"text-align: right;\">\n",
              "      <th></th>\n",
              "      <th>year</th>\n",
              "      <th>office</th>\n",
              "      <th>state</th>\n",
              "      <th>district</th>\n",
              "      <th>special</th>\n",
              "      <th>election_date</th>\n",
              "      <th>forecast_date</th>\n",
              "      <th>forecast_type</th>\n",
              "      <th>party</th>\n",
              "      <th>candidate</th>\n",
              "      <th>projected_voteshare</th>\n",
              "      <th>actual_voteshare</th>\n",
              "      <th>probwin</th>\n",
              "      <th>probwin_outcome</th>\n",
              "    </tr>\n",
              "  </thead>\n",
              "  <tbody>\n",
              "    <tr>\n",
              "      <th>0</th>\n",
              "      <td>2018</td>\n",
              "      <td>House</td>\n",
              "      <td>WY</td>\n",
              "      <td>1.0</td>\n",
              "      <td>False</td>\n",
              "      <td>2018-11-06</td>\n",
              "      <td>2018-11-06</td>\n",
              "      <td>lite</td>\n",
              "      <td>D</td>\n",
              "      <td>Greg Hunter</td>\n",
              "      <td>33.29836</td>\n",
              "      <td>NaN</td>\n",
              "      <td>0.00134</td>\n",
              "      <td>0</td>\n",
              "    </tr>\n",
              "    <tr>\n",
              "      <th>1</th>\n",
              "      <td>2018</td>\n",
              "      <td>House</td>\n",
              "      <td>WY</td>\n",
              "      <td>1.0</td>\n",
              "      <td>False</td>\n",
              "      <td>2018-11-06</td>\n",
              "      <td>2018-11-06</td>\n",
              "      <td>lite</td>\n",
              "      <td>R</td>\n",
              "      <td>Liz Cheney</td>\n",
              "      <td>61.18835</td>\n",
              "      <td>NaN</td>\n",
              "      <td>0.99866</td>\n",
              "      <td>1</td>\n",
              "    </tr>\n",
              "    <tr>\n",
              "      <th>2</th>\n",
              "      <td>2018</td>\n",
              "      <td>House</td>\n",
              "      <td>WY</td>\n",
              "      <td>1.0</td>\n",
              "      <td>False</td>\n",
              "      <td>2018-11-06</td>\n",
              "      <td>2018-11-06</td>\n",
              "      <td>deluxe</td>\n",
              "      <td>D</td>\n",
              "      <td>Greg Hunter</td>\n",
              "      <td>31.37998</td>\n",
              "      <td>NaN</td>\n",
              "      <td>0.00020</td>\n",
              "      <td>0</td>\n",
              "    </tr>\n",
              "    <tr>\n",
              "      <th>3</th>\n",
              "      <td>2018</td>\n",
              "      <td>House</td>\n",
              "      <td>WY</td>\n",
              "      <td>1.0</td>\n",
              "      <td>False</td>\n",
              "      <td>2018-11-06</td>\n",
              "      <td>2018-11-06</td>\n",
              "      <td>deluxe</td>\n",
              "      <td>R</td>\n",
              "      <td>Liz Cheney</td>\n",
              "      <td>63.10673</td>\n",
              "      <td>NaN</td>\n",
              "      <td>0.99980</td>\n",
              "      <td>1</td>\n",
              "    </tr>\n",
              "    <tr>\n",
              "      <th>4</th>\n",
              "      <td>2018</td>\n",
              "      <td>House</td>\n",
              "      <td>WY</td>\n",
              "      <td>1.0</td>\n",
              "      <td>False</td>\n",
              "      <td>2018-11-06</td>\n",
              "      <td>2018-11-06</td>\n",
              "      <td>classic</td>\n",
              "      <td>D</td>\n",
              "      <td>Greg Hunter</td>\n",
              "      <td>31.33293</td>\n",
              "      <td>NaN</td>\n",
              "      <td>0.00032</td>\n",
              "      <td>0</td>\n",
              "    </tr>\n",
              "    <tr>\n",
              "      <th>5</th>\n",
              "      <td>2018</td>\n",
              "      <td>House</td>\n",
              "      <td>WY</td>\n",
              "      <td>1.0</td>\n",
              "      <td>False</td>\n",
              "      <td>2018-11-06</td>\n",
              "      <td>2018-11-06</td>\n",
              "      <td>classic</td>\n",
              "      <td>R</td>\n",
              "      <td>Liz Cheney</td>\n",
              "      <td>63.15379</td>\n",
              "      <td>NaN</td>\n",
              "      <td>0.99968</td>\n",
              "      <td>1</td>\n",
              "    </tr>\n",
              "    <tr>\n",
              "      <th>6</th>\n",
              "      <td>2018</td>\n",
              "      <td>House</td>\n",
              "      <td>WV</td>\n",
              "      <td>3.0</td>\n",
              "      <td>False</td>\n",
              "      <td>2018-11-06</td>\n",
              "      <td>2018-11-06</td>\n",
              "      <td>lite</td>\n",
              "      <td>D</td>\n",
              "      <td>Richard Neece Ojeda</td>\n",
              "      <td>47.56779</td>\n",
              "      <td>NaN</td>\n",
              "      <td>0.27966</td>\n",
              "      <td>0</td>\n",
              "    </tr>\n",
              "    <tr>\n",
              "      <th>7</th>\n",
              "      <td>2018</td>\n",
              "      <td>House</td>\n",
              "      <td>WV</td>\n",
              "      <td>3.0</td>\n",
              "      <td>False</td>\n",
              "      <td>2018-11-06</td>\n",
              "      <td>2018-11-06</td>\n",
              "      <td>lite</td>\n",
              "      <td>R</td>\n",
              "      <td>Carol Devine Miller</td>\n",
              "      <td>52.43221</td>\n",
              "      <td>NaN</td>\n",
              "      <td>0.72034</td>\n",
              "      <td>1</td>\n",
              "    </tr>\n",
              "    <tr>\n",
              "      <th>8</th>\n",
              "      <td>2018</td>\n",
              "      <td>House</td>\n",
              "      <td>WV</td>\n",
              "      <td>3.0</td>\n",
              "      <td>False</td>\n",
              "      <td>2018-11-06</td>\n",
              "      <td>2018-11-06</td>\n",
              "      <td>deluxe</td>\n",
              "      <td>D</td>\n",
              "      <td>Richard Neece Ojeda</td>\n",
              "      <td>45.14111</td>\n",
              "      <td>NaN</td>\n",
              "      <td>0.09662</td>\n",
              "      <td>0</td>\n",
              "    </tr>\n",
              "    <tr>\n",
              "      <th>9</th>\n",
              "      <td>2018</td>\n",
              "      <td>House</td>\n",
              "      <td>WV</td>\n",
              "      <td>3.0</td>\n",
              "      <td>False</td>\n",
              "      <td>2018-11-06</td>\n",
              "      <td>2018-11-06</td>\n",
              "      <td>deluxe</td>\n",
              "      <td>R</td>\n",
              "      <td>Carol Devine Miller</td>\n",
              "      <td>54.85889</td>\n",
              "      <td>NaN</td>\n",
              "      <td>0.90338</td>\n",
              "      <td>1</td>\n",
              "    </tr>\n",
              "  </tbody>\n",
              "</table>\n",
              "</div>"
            ],
            "text/plain": [
              "   year office state  district special election_date forecast_date  \\\n",
              "0  2018  House    WY       1.0   False    2018-11-06    2018-11-06   \n",
              "1  2018  House    WY       1.0   False    2018-11-06    2018-11-06   \n",
              "2  2018  House    WY       1.0   False    2018-11-06    2018-11-06   \n",
              "3  2018  House    WY       1.0   False    2018-11-06    2018-11-06   \n",
              "4  2018  House    WY       1.0   False    2018-11-06    2018-11-06   \n",
              "5  2018  House    WY       1.0   False    2018-11-06    2018-11-06   \n",
              "6  2018  House    WV       3.0   False    2018-11-06    2018-11-06   \n",
              "7  2018  House    WV       3.0   False    2018-11-06    2018-11-06   \n",
              "8  2018  House    WV       3.0   False    2018-11-06    2018-11-06   \n",
              "9  2018  House    WV       3.0   False    2018-11-06    2018-11-06   \n",
              "\n",
              "  forecast_type party            candidate  projected_voteshare  \\\n",
              "0          lite     D          Greg Hunter             33.29836   \n",
              "1          lite     R           Liz Cheney             61.18835   \n",
              "2        deluxe     D          Greg Hunter             31.37998   \n",
              "3        deluxe     R           Liz Cheney             63.10673   \n",
              "4       classic     D          Greg Hunter             31.33293   \n",
              "5       classic     R           Liz Cheney             63.15379   \n",
              "6          lite     D  Richard Neece Ojeda             47.56779   \n",
              "7          lite     R  Carol Devine Miller             52.43221   \n",
              "8        deluxe     D  Richard Neece Ojeda             45.14111   \n",
              "9        deluxe     R  Carol Devine Miller             54.85889   \n",
              "\n",
              "   actual_voteshare  probwin  probwin_outcome  \n",
              "0               NaN  0.00134                0  \n",
              "1               NaN  0.99866                1  \n",
              "2               NaN  0.00020                0  \n",
              "3               NaN  0.99980                1  \n",
              "4               NaN  0.00032                0  \n",
              "5               NaN  0.99968                1  \n",
              "6               NaN  0.27966                0  \n",
              "7               NaN  0.72034                1  \n",
              "8               NaN  0.09662                0  \n",
              "9               NaN  0.90338                1  "
            ]
          },
          "execution_count": 5,
          "metadata": {},
          "output_type": "execute_result"
        }
      ],
      "source": [
        "election_data.iloc[:10,:]"
      ]
    },
    {
      "cell_type": "markdown",
      "metadata": {},
      "source": [
        "Fivethirtyeight has three different prediction models: `lite`, `classic` and `deluxe`, which roughly incorporate an increasing number of assumptions.  In this assignment lets focus on evaluting the quality of the `classic` predictions.  You can read more about how the prediction models work [here](https://fivethirtyeight.com/methodology/how-fivethirtyeights-house-and-senate-models-work/).\n",
        "\n",
        "Fivethirtyeight continuously updated their predictions as more polling data became available for each of the races.  Let's focus on the predictions a few months before the election, on August 11th, and on the morning of election day, November 6th.  \n",
        "\n",
        "### Question 1\n",
        "\n",
        "Create a new pandas dataframe called `election_sub` by filtering to include only rows in which the `forecast_type` is \"classic\", and the date of the foreceast (`forecast_date`) is 8/11 or 11/6."
      ]
    },
    {
      "cell_type": "markdown",
      "metadata": {
        "deletable": false,
        "editable": false
      },
      "source": [
        "<!--\n",
        "BEGIN QUESTION\n",
        "name: q1\n",
        "manual: false\n",
        "points: 2\n",
        "-->"
      ]
    },
    {
      "cell_type": "code",
      "execution_count": 6,
      "metadata": {},
      "outputs": [],
      "source": [
        "election_sub = election_data[election_data[\"forecast_type\"]==\"classic\"]\n",
        "election_sub = election_sub[(election_sub[\"forecast_date\"]==\"2018-11-06\") | (election_sub[\"forecast_date\"]==\"2018-08-11\")]"
      ]
    },
    {
      "cell_type": "code",
      "execution_count": 7,
      "metadata": {
        "deletable": false,
        "editable": false
      },
      "outputs": [
        {
          "name": "stdout",
          "output_type": "stream",
          "text": [
            "~~~~~~~~~~~~~~~~~~~~~~~~~~~~~~~~~~~~~~~~~~~~~~~~~~~~~~~~~~~~~~~~~~~~~\n",
            "Running tests\n",
            "\n",
            "---------------------------------------------------------------------\n",
            "Test summary\n",
            "    Passed: 2\n",
            "    Failed: 0\n",
            "[ooooooooook] 100.0% passed\n",
            "\n"
          ]
        }
      ],
      "source": [
        "ok.grade(\"q1\");"
      ]
    },
    {
      "cell_type": "markdown",
      "metadata": {},
      "source": [
        "### Question 2\n",
        "\n",
        "We want to check whether events predicted by 538 to occur with probability _close to_ X% actually occured about X% of the time.  To do this, we have to define _close_.  First, we'll define the `cut_points` as 20 equally spaced numbers between 0 and 1 using `np.linspace`.  Then we'll group the predicted probabilities into the `19` equally spaced bins determined by those cut points.  Define the bin for each observation using the `pd.cut` function on the `probwin` variable.  We'll assign the result to a new column of `election_sub` called `bin`."
      ]
    },
    {
      "cell_type": "markdown",
      "metadata": {
        "deletable": false,
        "editable": false
      },
      "source": [
        "<!--\n",
        "BEGIN QUESTION\n",
        "name: q2\n",
        "manual: false\n",
        "points: 2\n",
        "-->"
      ]
    },
    {
      "cell_type": "code",
      "execution_count": 8,
      "metadata": {},
      "outputs": [],
      "source": [
        "cut_points = np.linspace(0, 1, 20)\n",
        "election_sub[\"bin\"] = pd.cut(election_sub[\"probwin\"], cut_points)"
      ]
    },
    {
      "cell_type": "code",
      "execution_count": 9,
      "metadata": {
        "deletable": false,
        "editable": false
      },
      "outputs": [
        {
          "name": "stdout",
          "output_type": "stream",
          "text": [
            "~~~~~~~~~~~~~~~~~~~~~~~~~~~~~~~~~~~~~~~~~~~~~~~~~~~~~~~~~~~~~~~~~~~~~\n",
            "Running tests\n",
            "\n",
            "---------------------------------------------------------------------\n",
            "Test summary\n",
            "    Passed: 1\n",
            "    Failed: 0\n",
            "[ooooooooook] 100.0% passed\n",
            "\n"
          ]
        }
      ],
      "source": [
        "ok.grade(\"q2\");"
      ]
    },
    {
      "cell_type": "markdown",
      "metadata": {},
      "source": [
        "### Question 3\n",
        "\n",
        "Now we've grouped the observations into a discrete set of bins according to the predicted probability, `probwin`.  Within each bin, we now want to compute the actual fraction of times the candidates won. If 538 did a good job, it will be close to the predited probabilities.   You'll need to use the `groupby` function to compute the mean of `probwin_outcome` (1 is a win and 0 is a loss) within each bin.  Save the fraction of actual wins in each bin in a list called `fraction_outcome`."
      ]
    },
    {
      "cell_type": "markdown",
      "metadata": {
        "deletable": false,
        "editable": false
      },
      "source": [
        "<!--\n",
        "BEGIN QUESTION\n",
        "name: q3\n",
        "manual: false\n",
        "points: 2\n",
        "-->"
      ]
    },
    {
      "cell_type": "code",
      "execution_count": 10,
      "metadata": {},
      "outputs": [],
      "source": [
        "fraction_outcome = election_sub.groupby('bin')['probwin_outcome'].mean()"
      ]
    },
    {
      "cell_type": "code",
      "execution_count": 11,
      "metadata": {
        "deletable": false,
        "editable": false
      },
      "outputs": [
        {
          "name": "stdout",
          "output_type": "stream",
          "text": [
            "~~~~~~~~~~~~~~~~~~~~~~~~~~~~~~~~~~~~~~~~~~~~~~~~~~~~~~~~~~~~~~~~~~~~~\n",
            "Running tests\n",
            "\n",
            "---------------------------------------------------------------------\n",
            "Test summary\n",
            "    Passed: 2\n",
            "    Failed: 0\n",
            "[ooooooooook] 100.0% passed\n",
            "\n"
          ]
        }
      ],
      "source": [
        "ok.grade(\"q3\");"
      ]
    },
    {
      "cell_type": "markdown",
      "metadata": {},
      "source": [
        "### Question 4\n",
        "\n",
        "For this problem we'll make a plot of the predicted probabilities and actual fraction of wins in each bin.  We've already computed the actual fraction of wins; all that remains is to plot it against the predicted value assocaited with each bin.  For the predicted value in each bin, we'll use the midpoint of the bin.  Compute the midpoints of each bin from `cut_points`."
      ]
    },
    {
      "cell_type": "markdown",
      "metadata": {
        "deletable": false,
        "editable": false
      },
      "source": [
        "<!--\n",
        "BEGIN QUESTION\n",
        "name: q4\n",
        "manual: false\n",
        "points: 2\n",
        "-->"
      ]
    },
    {
      "cell_type": "code",
      "execution_count": 12,
      "metadata": {},
      "outputs": [
        {
          "data": {
            "text/plain": [
              "[0.02631578947368421,\n",
              " 0.07894736842105263,\n",
              " 0.13157894736842105,\n",
              " 0.18421052631578946,\n",
              " 0.23684210526315788,\n",
              " 0.2894736842105263,\n",
              " 0.3421052631578947,\n",
              " 0.39473684210526316,\n",
              " 0.4473684210526315,\n",
              " 0.5,\n",
              " 0.5526315789473684,\n",
              " 0.6052631578947368,\n",
              " 0.6578947368421052,\n",
              " 0.7105263157894737,\n",
              " 0.763157894736842,\n",
              " 0.8157894736842105,\n",
              " 0.8684210526315789,\n",
              " 0.9210526315789473,\n",
              " 0.9736842105263157]"
            ]
          },
          "execution_count": 12,
          "metadata": {},
          "output_type": "execute_result"
        }
      ],
      "source": [
        "midpoints = (cut_points[1:] + cut_points[:-1]) / 2\n",
        "list(midpoints)"
      ]
    },
    {
      "cell_type": "code",
      "execution_count": 13,
      "metadata": {
        "deletable": false,
        "editable": false
      },
      "outputs": [
        {
          "name": "stdout",
          "output_type": "stream",
          "text": [
            "~~~~~~~~~~~~~~~~~~~~~~~~~~~~~~~~~~~~~~~~~~~~~~~~~~~~~~~~~~~~~~~~~~~~~\n",
            "Running tests\n",
            "\n",
            "---------------------------------------------------------------------\n",
            "Test summary\n",
            "    Passed: 2\n",
            "    Failed: 0\n",
            "[ooooooooook] 100.0% passed\n",
            "\n"
          ]
        }
      ],
      "source": [
        "ok.grade(\"q4\");"
      ]
    },
    {
      "cell_type": "markdown",
      "metadata": {},
      "source": [
        "Now make a scatterplot using `midpoints` as the x variable and `fraction_outcome` as the y variable.  Draw a dashed line from `[0,0]` to `[1,1]` to mark the line y=x.  "
      ]
    },
    {
      "cell_type": "code",
      "execution_count": 14,
      "metadata": {},
      "outputs": [
        {
          "data": {
            "text/plain": [
              "[<matplotlib.lines.Line2D at 0x7f888d6d4208>]"
            ]
          },
          "execution_count": 14,
          "metadata": {},
          "output_type": "execute_result"
        },
        {
          "data": {
            "image/png": "[encoded data removed]",
            "text/plain": [
              "<Figure size 432x288 with 1 Axes>"
            ]
          },
          "metadata": {
            "needs_background": "light"
          },
          "output_type": "display_data"
        }
      ],
      "source": [
        "%matplotlib inline\n",
        "import matplotlib.pyplot as plt\n",
        "\n",
        "plt.plot(midpoints, fraction_outcome, 'p')\n",
        "plt.plot([0, 1], [0, 1], '--')"
      ]
    },
    {
      "cell_type": "markdown",
      "metadata": {},
      "source": [
        "### Question 5: adding error bars\n",
        "\n",
        "If you did things correctly, it should look like fivethirtyeight has done \"pretty\" well with their forecasts: the actual fraction of wins tracks closely with the predicted number.  But how do we decide what's \"good enough\"? Consider this example: I correctly predict that a coin is fair (e.g. that it has a 50% chance of heads, 50% chance of tails).  But if I flip it 100 times, I can be pretty sure it won't come up heads exactly 50 times.  The fact that it didn't come up heads exactly 50 times doesn't make my prediction incorrect.\n",
        "\n",
        "To assess how reasonable the predictions are, I need to quantify the uncertainty in my estimate.  It's reasonable to assume that within each bin, $k$, the observed number of wins, $Y_k \\sim Bin(n_k, p_k)$, where $n_k$ is the number of elections and $p_k$ is the predicted win probability in bin $k$.\n",
        "\n",
        "Classical results tell us that the obseved fraction of wins in bin $k$, $\\hat p = \\frac{Y_k}{n_k}$ has variance Var$\\left(\\hat p_k\\right) = \\frac{p_k (1-p_k)}{n_k} \\approx \\frac{\\hat p_k(1- \\hat p_k)}{n_k}$.  The standard deviation of the Binomial proportion then is $\\hat \\sigma_k \\approx \\sqrt{\\frac{\\hat p_k(1- \\hat p_k)}{n_k}}$.  \n",
        "\n",
        "If we use the [normal approximation to generate a confidence interval](https://en.wikipedia.org/wiki/Binomial_proportion_confidence_interval#Normal_approximation_interval), then the 95% interval has the form $\\hat p_k \\pm 1.96 \\hat \\sigma_k$.\n"
      ]
    },
    {
      "cell_type": "markdown",
      "metadata": {},
      "source": [
        "Create a new \"aggregated\" dataframe.  This time, group `election_sub` by the `bin` and compute both the average of the `probwin_outcome` (`mean`) and the number of observations in each bin (`count`) using the `agg` function.  Call this new data frame, `election_agg`."
      ]
    },
    {
      "cell_type": "code",
      "execution_count": 15,
      "metadata": {},
      "outputs": [],
      "source": [
        "election_agg = election_sub.groupby('bin')['probwin_outcome'].agg(['mean', 'count'])"
      ]
    },
    {
      "cell_type": "markdown",
      "metadata": {},
      "source": [
        "Use the `mean` and `count` columns of `election_agg` to create a new column of `election_agg` titled `err`, which stores $1.96 \\times \\hat \\sigma_k$ in each bin $k$."
      ]
    },
    {
      "cell_type": "code",
      "execution_count": 16,
      "metadata": {},
      "outputs": [],
      "source": [
        "election_agg['err'] = 1.96 * np.sqrt( election_agg['mean'] * (1-election_agg['mean']) / (election_agg['count']) )"
      ]
    },
    {
      "cell_type": "markdown",
      "metadata": {},
      "source": [
        "Use `plt.errorbar` to create a new plot with error bars associated with the actual fraction of wins in each bin.  Again add a dashed y=x line.  Set the argument `fmt='.'` to create a scatterplot with errorbars."
      ]
    },
    {
      "cell_type": "code",
      "execution_count": 17,
      "metadata": {},
      "outputs": [
        {
          "data": {
            "text/plain": [
              "[<matplotlib.lines.Line2D at 0x7f888cbc6160>]"
            ]
          },
          "execution_count": 17,
          "metadata": {},
          "output_type": "execute_result"
        },
        {
          "data": {
            "image/png": "[encoded data removed]",
            "text/plain": [
              "<Figure size 432x288 with 1 Axes>"
            ]
          },
          "metadata": {
            "needs_background": "light"
          },
          "output_type": "display_data"
        }
      ],
      "source": [
        "plt.errorbar(midpoints, election_agg['mean'].values, yerr=election_agg['err'].values, fmt='.')\n",
        "plt.plot([0, 1], [0, 1], '--')"
      ]
    },
    {
      "cell_type": "markdown",
      "metadata": {},
      "source": [
        "### Question 6: computing the coverage\n",
        "\n",
        "If our intervals were true 95% confidence intervals, then we would expect about 95% of them to cover the midpoint of the bin (i.e. overlap with the y=x line).  What fraction of the 95% confidence intervals cover the bin midpoint?  Create a list called `upper` to be the `mean` + `err` and another `lower` to be `mean` - `err`.  Next, compute `frac_covering` as the fraction of midpoints between `lower` and `upper`. "
      ]
    },
    {
      "cell_type": "markdown",
      "metadata": {
        "deletable": false,
        "editable": false
      },
      "source": [
        "<!--\n",
        "BEGIN QUESTION\n",
        "name: q5\n",
        "manual: false\n",
        "points: 2\n",
        "-->"
      ]
    },
    {
      "cell_type": "code",
      "execution_count": 18,
      "metadata": {},
      "outputs": [],
      "source": [
        "upper = election_agg['mean'] + election_agg['err']\n",
        "lower = election_agg['mean'] - election_agg['err']\n",
        "\n",
        "frac_covering = np.mean((midpoints <= upper) & (midpoints >= lower))"
      ]
    },
    {
      "cell_type": "code",
      "execution_count": 24,
      "metadata": {
        "deletable": false,
        "editable": false
      },
      "outputs": [
        {
          "name": "stdout",
          "output_type": "stream",
          "text": [
            "~~~~~~~~~~~~~~~~~~~~~~~~~~~~~~~~~~~~~~~~~~~~~~~~~~~~~~~~~~~~~~~~~~~~~\n",
            "Running tests\n",
            "\n",
            "---------------------------------------------------------------------\n",
            "Test summary\n",
            "    Passed: 1\n",
            "    Failed: 0\n",
            "[ooooooooook] 100.0% passed\n",
            "\n"
          ]
        }
      ],
      "source": [
        "ok.grade(\"q6\");"
      ]
    },
    {
      "cell_type": "markdown",
      "metadata": {},
      "source": [
        "### Question 7: understanding confidence intervals\n",
        "\n",
        "Are the 95% confidence intervals generally larger or smaller for more confident predictions (e.g. the predictions closer to 0 or 1).  What are the factors that determine the length of the confidence intervals?"
      ]
    },
    {
      "cell_type": "markdown",
      "metadata": {},
      "source": [
        "$\\textbf{Answer}$: Confidence intervals is smaller than for more confident predictions because as $n$ increases, $Var(\\hat{p_k})$ decreases, so the confidence interval will be smaller.  \n",
        "The length of the confidence intervals is determined by sample size, confidence level, and the variability in the sample."
      ]
    },
    {
      "cell_type": "markdown",
      "metadata": {},
      "source": [
        "### Question 8: finding the candidate that had the biggest change in support\n",
        "\n",
        "Let's see if we can find the candidate that seemed to improve their standing the most between  August 11 and November 6.  First, fill in the function `abs_diff`, which takes in a pandas data frame and computes the difference between the largest values of `probwin` and the smallest value.  \n",
        "\n"
      ]
    },
    {
      "cell_type": "code",
      "execution_count": 20,
      "metadata": {},
      "outputs": [],
      "source": [
        "# Input: a pandas dataframe with a numeric column named `probwin`\n",
        "# Output: a pandas dataframe with the same columns, with an additional column named `absdiff`\n",
        "def abs_diff(x):\n",
        "    absdiff = abs(max(x['probwin']) - min(x['probwin']))\n",
        "    x['absdiff'] = absdiff\n",
        "    return x"
      ]
    },
    {
      "cell_type": "markdown",
      "metadata": {},
      "source": [
        "We can use this function to compute the difference between the maximum and minimum predicted with probabilities for every candidate.  To do so, group `election_sub` by `candidate` and `apply` the function `abs_diff`.  Find the index of the largest difference in `diff_dataframe` and store it in `max_idx`.  Do this using `np.nanargmax` function.  This function finds the _index_ of the largest value, ignoring any missing values (`nans`). "
      ]
    },
    {
      "cell_type": "code",
      "execution_count": 21,
      "metadata": {},
      "outputs": [],
      "source": [
        "diff_dataframe = election_sub.groupby('candidate').apply(abs_diff)\n",
        "max_idx = np.nanargmax(diff_dataframe['absdiff'])"
      ]
    },
    {
      "cell_type": "markdown",
      "metadata": {
        "deletable": false,
        "editable": false
      },
      "source": [
        "<!--\n",
        "BEGIN QUESTION\n",
        "name: q5\n",
        "manual: false\n",
        "points: 2\n",
        "-->"
      ]
    },
    {
      "cell_type": "code",
      "execution_count": 22,
      "metadata": {},
      "outputs": [
        {
          "data": {
            "text/plain": [
              "'Sharice Davids'"
            ]
          },
          "execution_count": 22,
          "metadata": {},
          "output_type": "execute_result"
        }
      ],
      "source": [
        "candidate = diff_dataframe.iloc[max_idx,9]\n",
        "candidate"
      ]
    },
    {
      "cell_type": "code",
      "execution_count": 25,
      "metadata": {
        "deletable": false,
        "editable": false
      },
      "outputs": [
        {
          "name": "stdout",
          "output_type": "stream",
          "text": [
            "~~~~~~~~~~~~~~~~~~~~~~~~~~~~~~~~~~~~~~~~~~~~~~~~~~~~~~~~~~~~~~~~~~~~~\n",
            "Running tests\n",
            "\n",
            "---------------------------------------------------------------------\n",
            "Test summary\n",
            "    Passed: 1\n",
            "    Failed: 0\n",
            "[ooooooooook] 100.0% passed\n",
            "\n"
          ]
        }
      ],
      "source": [
        "ok.grade(\"q8\");"
      ]
    },
    {
      "cell_type": "markdown",
      "metadata": {},
      "source": [
        "Did the candidate win or lose the election?"
      ]
    },
    {
      "cell_type": "markdown",
      "metadata": {},
      "source": [
        "$\\textbf{Answer}$:Sharice Davids won the election."
      ]
    },
    {
      "cell_type": "markdown",
      "metadata": {},
      "source": [
        "### Question 9: plot predictions over time"
      ]
    },
    {
      "cell_type": "markdown",
      "metadata": {},
      "source": [
        "Plot the forecasted win probability for the candidate you found above, for every available date.  For this you'll need to return to working with the full `election_data`, not `election_sub`.  Don't forget, you should still filter to `classic` forecasts only.  First, create an array of `predicted_probs` for the candidate at every date.  Also save the date in an array called `forecast_date`.  When creating `forecast_date`, use `pd.to_datetime` to convert a `str` datatype to the date format that can easily be plotted."
      ]
    },
    {
      "cell_type": "markdown",
      "metadata": {
        "deletable": false,
        "editable": false
      },
      "source": [
        "<!--\n",
        "BEGIN QUESTION\n",
        "name: q6\n",
        "manual: false\n",
        "points: 2\n",
        "-->"
      ]
    },
    {
      "cell_type": "code",
      "execution_count": 26,
      "metadata": {},
      "outputs": [],
      "source": [
        "predicted_probs = election_data[(election_data[\"forecast_type\"]==\"classic\") \n",
        "                                & (election_data[\"candidate\"]==candidate)][\"probwin\"]\n",
        "forecast_date = pd.to_datetime(election_data[(election_data[\"forecast_type\"]==\"classic\") \n",
        "                                & (election_data[\"candidate\"]==candidate)][\"forecast_date\"])"
      ]
    },
    {
      "cell_type": "code",
      "execution_count": 27,
      "metadata": {
        "deletable": false,
        "editable": false
      },
      "outputs": [
        {
          "name": "stdout",
          "output_type": "stream",
          "text": [
            "~~~~~~~~~~~~~~~~~~~~~~~~~~~~~~~~~~~~~~~~~~~~~~~~~~~~~~~~~~~~~~~~~~~~~\n",
            "Running tests\n",
            "\n",
            "---------------------------------------------------------------------\n",
            "Test summary\n",
            "    Passed: 3\n",
            "    Failed: 0\n",
            "[ooooooooook] 100.0% passed\n",
            "\n"
          ]
        }
      ],
      "source": [
        "ok.grade(\"q9\");"
      ]
    },
    {
      "cell_type": "markdown",
      "metadata": {},
      "source": [
        "Now create a lineplot with forecast date on the x-axis and the predicted win probability on the y-axis."
      ]
    },
    {
      "cell_type": "code",
      "execution_count": 28,
      "metadata": {},
      "outputs": [
        {
          "name": "stderr",
          "output_type": "stream",
          "text": [
            "/opt/conda/lib/python3.6/site-packages/pandas/plotting/_converter.py:129: FutureWarning: Using an implicitly registered datetime converter for a matplotlib plotting method. The converter was registered by pandas on import. Future versions of pandas will require you to explicitly register matplotlib converters.\n",
            "\n",
            "To register the converters:\n",
            "\t>>> from pandas.plotting import register_matplotlib_converters\n",
            "\t>>> register_matplotlib_converters()\n",
            "  warnings.warn(msg, FutureWarning)\n"
          ]
        },
        {
          "data": {
            "text/plain": [
              "[<matplotlib.lines.Line2D at 0x7f888df1ecf8>]"
            ]
          },
          "execution_count": 28,
          "metadata": {},
          "output_type": "execute_result"
        },
        {
          "data": {
            "image/png": "[encoded data removed]",
            "text/plain": [
              "<Figure size 432x288 with 1 Axes>"
            ]
          },
          "metadata": {
            "needs_background": "light"
          },
          "output_type": "display_data"
        }
      ],
      "source": [
        "plt.plot(forecast_date, predicted_probs)"
      ]
    },
    {
      "cell_type": "markdown",
      "metadata": {},
      "source": [
        "### Question 10: prediction histograms\n",
        "\n",
        "Make a histogram showing the predicted win probabilities on the morning of the election.  Again, restrict yourself to only the `classic` predictions."
      ]
    },
    {
      "cell_type": "code",
      "execution_count": 29,
      "metadata": {},
      "outputs": [
        {
          "data": {
            "text/plain": [
              "(array([443.,  37.,  22.,  15.,  17.,  17.,  15.,  22.,  37., 344.]),\n",
              " array([0. , 0.1, 0.2, 0.3, 0.4, 0.5, 0.6, 0.7, 0.8, 0.9, 1. ]),\n",
              " <a list of 10 Patch objects>)"
            ]
          },
          "execution_count": 29,
          "metadata": {},
          "output_type": "execute_result"
        },
        {
          "data": {
            "image/png": "[encoded data removed]",
            "text/plain": [
              "<Figure size 432x288 with 1 Axes>"
            ]
          },
          "metadata": {
            "needs_background": "light"
          },
          "output_type": "display_data"
        }
      ],
      "source": [
        "plt.hist(election_data[(election_data[\"forecast_type\"]==\"classic\") & (election_data[\"forecast_date\"]==\"2018-11-06\")][\"probwin\"])"
      ]
    },
    {
      "cell_type": "markdown",
      "metadata": {},
      "source": [
        "Are most house elections easy to forecast or hard to forecast?"
      ]
    },
    {
      "cell_type": "markdown",
      "metadata": {},
      "source": [
        "$\\textbf{Answer}$: Most house elections are easy to forecast because a lot of counties consistently vote for 1 party, and incumbents are more favor to win.\n",
        "From the histogram we see most of the predicted win probabilities are 0 and 1 on the morning of the election which means 538 is pretty sure about the outcome of the election."
      ]
    },
    {
      "cell_type": "markdown",
      "metadata": {},
      "source": [
        "### Question 11: Comparing election and baseball predictions\n",
        "\n",
        "Fivethirtyeight also builds predictive models for sporting events.  The following code will down a csv file containg their predictions for who would win every major league baseball game over the past two years."
      ]
    },
    {
      "cell_type": "code",
      "execution_count": 30,
      "metadata": {},
      "outputs": [
        {
          "name": "stdout",
          "output_type": "stream",
          "text": [
            "--2019-04-18 22:46:59--  https://raw.githubusercontent.com/fivethirtyeight/checking-our-work-data/master/mlb_games.csv\n",
            "Resolving raw.githubusercontent.com (raw.githubusercontent.com)... 151.101.0.133, 151.101.64.133, 151.101.128.133, ...\n",
            "Connecting to raw.githubusercontent.com (raw.githubusercontent.com)|151.101.0.133|:443... connected.\n",
            "HTTP request sent, awaiting response... 200 OK\n",
            "Length: 562029 (549K) [text/plain]\n",
            "Saving to: \u2018mlb_games.csv.8\u2019\n",
            "\n",
            "mlb_games.csv.8     100%[===================>] 548.86K  --.-KB/s    in 0.04s   \n",
            "\n",
            "2019-04-18 22:46:59 (13.9 MB/s) - \u2018mlb_games.csv.8\u2019 saved [562029/562029]\n",
            "\n"
          ]
        }
      ],
      "source": [
        "!wget https://raw.githubusercontent.com/fivethirtyeight/checking-our-work-data/master/mlb_games.csv    "
      ]
    },
    {
      "cell_type": "markdown",
      "metadata": {},
      "source": [
        "Create a pandas dataframe from the csv and print the first 10 rows."
      ]
    },
    {
      "cell_type": "code",
      "execution_count": 31,
      "metadata": {},
      "outputs": [
        {
          "data": {
            "text/html": [
              "<div>\n",
              "<style scoped>\n",
              "    .dataframe tbody tr th:only-of-type {\n",
              "        vertical-align: middle;\n",
              "    }\n",
              "\n",
              "    .dataframe tbody tr th {\n",
              "        vertical-align: top;\n",
              "    }\n",
              "\n",
              "    .dataframe thead th {\n",
              "        text-align: right;\n",
              "    }\n",
              "</style>\n",
              "<table border=\"1\" class=\"dataframe\">\n",
              "  <thead>\n",
              "    <tr style=\"text-align: right;\">\n",
              "      <th></th>\n",
              "      <th>season</th>\n",
              "      <th>date</th>\n",
              "      <th>team1</th>\n",
              "      <th>team2</th>\n",
              "      <th>dh</th>\n",
              "      <th>prob1</th>\n",
              "      <th>prob1_outcome</th>\n",
              "      <th>prob2</th>\n",
              "      <th>prob2_outcome</th>\n",
              "    </tr>\n",
              "  </thead>\n",
              "  <tbody>\n",
              "    <tr>\n",
              "      <th>0</th>\n",
              "      <td>2018</td>\n",
              "      <td>2018-10-28</td>\n",
              "      <td>Dodgers</td>\n",
              "      <td>Red Sox</td>\n",
              "      <td>0</td>\n",
              "      <td>0.483877</td>\n",
              "      <td>0.0</td>\n",
              "      <td>0.516123</td>\n",
              "      <td>1.0</td>\n",
              "    </tr>\n",
              "    <tr>\n",
              "      <th>1</th>\n",
              "      <td>2018</td>\n",
              "      <td>2018-10-27</td>\n",
              "      <td>Dodgers</td>\n",
              "      <td>Red Sox</td>\n",
              "      <td>0</td>\n",
              "      <td>0.508342</td>\n",
              "      <td>0.0</td>\n",
              "      <td>0.491658</td>\n",
              "      <td>1.0</td>\n",
              "    </tr>\n",
              "    <tr>\n",
              "      <th>2</th>\n",
              "      <td>2018</td>\n",
              "      <td>2018-10-26</td>\n",
              "      <td>Dodgers</td>\n",
              "      <td>Red Sox</td>\n",
              "      <td>0</td>\n",
              "      <td>0.555907</td>\n",
              "      <td>1.0</td>\n",
              "      <td>0.444093</td>\n",
              "      <td>0.0</td>\n",
              "    </tr>\n",
              "    <tr>\n",
              "      <th>3</th>\n",
              "      <td>2018</td>\n",
              "      <td>2018-10-24</td>\n",
              "      <td>Red Sox</td>\n",
              "      <td>Dodgers</td>\n",
              "      <td>0</td>\n",
              "      <td>0.619808</td>\n",
              "      <td>1.0</td>\n",
              "      <td>0.380192</td>\n",
              "      <td>0.0</td>\n",
              "    </tr>\n",
              "    <tr>\n",
              "      <th>4</th>\n",
              "      <td>2018</td>\n",
              "      <td>2018-10-23</td>\n",
              "      <td>Red Sox</td>\n",
              "      <td>Dodgers</td>\n",
              "      <td>0</td>\n",
              "      <td>0.648954</td>\n",
              "      <td>1.0</td>\n",
              "      <td>0.351046</td>\n",
              "      <td>0.0</td>\n",
              "    </tr>\n",
              "    <tr>\n",
              "      <th>5</th>\n",
              "      <td>2018</td>\n",
              "      <td>2018-10-20</td>\n",
              "      <td>Brewers</td>\n",
              "      <td>Dodgers</td>\n",
              "      <td>0</td>\n",
              "      <td>0.509500</td>\n",
              "      <td>0.0</td>\n",
              "      <td>0.490500</td>\n",
              "      <td>1.0</td>\n",
              "    </tr>\n",
              "    <tr>\n",
              "      <th>6</th>\n",
              "      <td>2018</td>\n",
              "      <td>2018-10-19</td>\n",
              "      <td>Brewers</td>\n",
              "      <td>Dodgers</td>\n",
              "      <td>0</td>\n",
              "      <td>0.505211</td>\n",
              "      <td>1.0</td>\n",
              "      <td>0.494789</td>\n",
              "      <td>0.0</td>\n",
              "    </tr>\n",
              "    <tr>\n",
              "      <th>7</th>\n",
              "      <td>2018</td>\n",
              "      <td>2018-10-18</td>\n",
              "      <td>Astros</td>\n",
              "      <td>Red Sox</td>\n",
              "      <td>0</td>\n",
              "      <td>0.603029</td>\n",
              "      <td>0.0</td>\n",
              "      <td>0.396971</td>\n",
              "      <td>1.0</td>\n",
              "    </tr>\n",
              "    <tr>\n",
              "      <th>8</th>\n",
              "      <td>2018</td>\n",
              "      <td>2018-10-17</td>\n",
              "      <td>Astros</td>\n",
              "      <td>Red Sox</td>\n",
              "      <td>0</td>\n",
              "      <td>0.568016</td>\n",
              "      <td>0.0</td>\n",
              "      <td>0.431984</td>\n",
              "      <td>1.0</td>\n",
              "    </tr>\n",
              "    <tr>\n",
              "      <th>9</th>\n",
              "      <td>2018</td>\n",
              "      <td>2018-10-17</td>\n",
              "      <td>Dodgers</td>\n",
              "      <td>Brewers</td>\n",
              "      <td>0</td>\n",
              "      <td>0.600428</td>\n",
              "      <td>1.0</td>\n",
              "      <td>0.399572</td>\n",
              "      <td>0.0</td>\n",
              "    </tr>\n",
              "  </tbody>\n",
              "</table>\n",
              "</div>"
            ],
            "text/plain": [
              "   season        date    team1    team2  dh     prob1  prob1_outcome  \\\n",
              "0    2018  2018-10-28  Dodgers  Red Sox   0  0.483877            0.0   \n",
              "1    2018  2018-10-27  Dodgers  Red Sox   0  0.508342            0.0   \n",
              "2    2018  2018-10-26  Dodgers  Red Sox   0  0.555907            1.0   \n",
              "3    2018  2018-10-24  Red Sox  Dodgers   0  0.619808            1.0   \n",
              "4    2018  2018-10-23  Red Sox  Dodgers   0  0.648954            1.0   \n",
              "5    2018  2018-10-20  Brewers  Dodgers   0  0.509500            0.0   \n",
              "6    2018  2018-10-19  Brewers  Dodgers   0  0.505211            1.0   \n",
              "7    2018  2018-10-18   Astros  Red Sox   0  0.603029            0.0   \n",
              "8    2018  2018-10-17   Astros  Red Sox   0  0.568016            0.0   \n",
              "9    2018  2018-10-17  Dodgers  Brewers   0  0.600428            1.0   \n",
              "\n",
              "      prob2  prob2_outcome  \n",
              "0  0.516123            1.0  \n",
              "1  0.491658            1.0  \n",
              "2  0.444093            0.0  \n",
              "3  0.380192            0.0  \n",
              "4  0.351046            0.0  \n",
              "5  0.490500            1.0  \n",
              "6  0.494789            0.0  \n",
              "7  0.396971            1.0  \n",
              "8  0.431984            1.0  \n",
              "9  0.399572            0.0  "
            ]
          },
          "execution_count": 31,
          "metadata": {},
          "output_type": "execute_result"
        }
      ],
      "source": [
        "baseball_data = pd.read_csv(\"mlb_games.csv\")\n",
        "baseball_data.iloc[:10,:]"
      ]
    },
    {
      "cell_type": "markdown",
      "metadata": {},
      "source": [
        "In this dataframe `prob1` is the predicted win probability for `team1`.  Make a histogram of `prob1`.  Set the limits of the x-axis to `[0, 1]`"
      ]
    },
    {
      "cell_type": "code",
      "execution_count": 32,
      "metadata": {
        "scrolled": true
      },
      "outputs": [
        {
          "data": {
            "text/plain": [
              "(array([  10.,  114.,  368., 1072., 1723., 1875., 1425.,  642.,  149.,\n",
              "          17.]),\n",
              " array([0.2333467 , 0.29123787, 0.34912904, 0.40702021, 0.46491138,\n",
              "        0.52280255, 0.58069372, 0.63858489, 0.69647606, 0.75436723,\n",
              "        0.8122584 ]),\n",
              " <a list of 10 Patch objects>)"
            ]
          },
          "execution_count": 32,
          "metadata": {},
          "output_type": "execute_result"
        },
        {
          "data": {
            "image/png": "[encoded data removed]",
            "text/plain": [
              "<Figure size 432x288 with 1 Axes>"
            ]
          },
          "metadata": {
            "needs_background": "light"
          },
          "output_type": "display_data"
        }
      ],
      "source": [
        "plt.xlim([0,1])\n",
        "plt.hist(baseball_data[\"prob1\"])"
      ]
    },
    {
      "cell_type": "markdown",
      "metadata": {},
      "source": [
        "### Question 12\n",
        "\n",
        "Find the most \"surprising\" baseball game outcome.  To do so, select all of the entries for which `prob1_outcome` is 1 (i.e. `team1` won the game), and then look for the index of the row containing the smallest value of `prob1`.  This will correspond to the game that was most suprising according to fivethirtyeights predictions. Find and print the row corresponding to this most surprising outcome."
      ]
    },
    {
      "cell_type": "code",
      "execution_count": 33,
      "metadata": {},
      "outputs": [
        {
          "name": "stdout",
          "output_type": "stream",
          "text": [
            "season                 2018\n",
            "date             2018-08-25\n",
            "team1                Royals\n",
            "team2               Indians\n",
            "dh                        0\n",
            "prob1              0.287558\n",
            "prob1_outcome             1\n",
            "prob2              0.712442\n",
            "prob2_outcome             0\n",
            "Name: 521, dtype: object\n"
          ]
        }
      ],
      "source": [
        "baseball_sub = baseball_data.query('prob1_outcome==1')\n",
        "pos = np.nanargmin(baseball_sub[\"prob1\"])\n",
        "print(baseball_sub.iloc[pos,:])"
      ]
    },
    {
      "cell_type": "markdown",
      "metadata": {},
      "source": [
        "### Question 13\n",
        "Are the outcomes of baseball games generally easier or harder to predict than the outcomes of political elections?  In a few sentences, comment on why this might be the case.  What data is available for these predictions? What factors affect the outcomes of elections and baseball games? What makes an event like an election or a baseballgame \"random\"?"
      ]
    },
    {
      "cell_type": "markdown",
      "metadata": {},
      "source": [
        "$\\textbf{Answer}$: Outcomes of baseball games are harder to predict than the outcomes of political elections. We can see from the histogram that most `prob1` is between 0.4 and 0.6.  \n",
        "Sabermetrics is the main data of baseball games and mainly used to predict outcomes of baseball games while opinion polls are the main data of elections.\n",
        "A lot of factors can effect the outcomes of the game: Key player of the team get injured during the game, the best pitcher has a bad day and throws lots of bad balls. In case of Royals-Indians game, a Royals rookie outduels Indians best player which is unexpected.\n",
        "On the other hand, outcomes of elections are easier to predict since it is very difficult and sometimes impossible to change one's political views."
      ]
    },
    {
      "cell_type": "markdown",
      "metadata": {
        "deletable": false,
        "editable": false
      },
      "source": [
        "# Submit\n",
        "Make sure you have run all cells in your notebook in order before running the cell below, so that all images/graphs appear in the output.\n",
        "**Please save before submitting!**"
      ]
    },
    {
      "cell_type": "code",
      "execution_count": null,
      "metadata": {
        "deletable": false,
        "editable": false
      },
      "outputs": [],
      "source": [
        "# Save your notebook first, then run this cell to submit.\n",
        "# Removed by AutoGraderok.submit()"
      ]
    },
    {
      "cell_type": "code",
      "execution_count": null,
      "metadata": {},
      "outputs": [],
      "source": []
    }
  ],
  "metadata": {
    "kernelspec": {
      "display_name": "Python 3",
      "language": "python",
      "name": "python3"
    },
    "language_info": {
      "codemirror_mode": {
        "name": "ipython",
        "version": 3
      },
      "file_extension": ".py",
      "mimetype": "text/x-python",
      "name": "python",
      "nbconvert_exporter": "python",
      "pygments_lexer": "ipython3",
      "version": "3.6.7"
    }
  },
  "nbformat": 4,
  "nbformat_minor": 2
}